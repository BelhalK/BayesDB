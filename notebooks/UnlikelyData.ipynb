{
 "cells": [
  {
   "cell_type": "markdown",
   "metadata": {},
   "source": [
    "# Introduction"
   ]
  },
  {
   "cell_type": "markdown",
   "metadata": {},
   "source": [
    "In this notebook, I explore outliers in 10 variables of interest in the College Scorecard dataset based on the relative probabilities of their values. I present the 20 most unlikely values for each variable along with the corresponding school ID code."
   ]
  },
  {
   "cell_type": "markdown",
   "metadata": {},
   "source": [
    "# Setup"
   ]
  },
  {
   "cell_type": "code",
   "execution_count": 13,
   "metadata": {
    "collapsed": false
   },
   "outputs": [],
   "source": [
    "def powerset_gen(sequence):\n",
    "    l=[]\n",
    "    if len(sequence)<=1:\n",
    "        yield sequence\n",
    "        yield []\n",
    "    else:\n",
    "        for item in powerset(sequence[1:]):\n",
    "            yield [sequence[0]]+item\n",
    "            yield item\n",
    "            \n",
    "def powerset(seq):\n",
    "    l=[]\n",
    "    gen=powerset_gen(seq)\n",
    "    for item in gen:\n",
    "        l.append(item)\n",
    "    return l"
   ]
  },
  {
   "cell_type": "code",
   "execution_count": 11,
   "metadata": {
    "collapsed": true
   },
   "outputs": [],
   "source": [
    "seq = [1,5,9]"
   ]
  },
  {
   "cell_type": "code",
   "execution_count": 15,
   "metadata": {
    "collapsed": false
   },
   "outputs": [
    {
     "data": {
      "text/plain": [
       "[[1, 5, 9], [5, 9], [1, 9], [9], [1, 5], [5], [1], []]"
      ]
     },
     "execution_count": 15,
     "metadata": {},
     "output_type": "execute_result"
    }
   ],
   "source": [
    "powerset(seq)"
   ]
  },
  {
   "cell_type": "code",
   "execution_count": 40,
   "metadata": {
    "collapsed": false
   },
   "outputs": [],
   "source": [
    "import bayeslite\n",
    "from bayeslite.read_pandas import bayesdb_read_pandas_df\n",
    "import bdbcontrib\n",
    "from bdbcontrib import cursor_to_df as df\n",
    "from bdbcontrib.recipes import quickstart\n",
    "import pandas as pd\n",
    "import numpy\n",
    "import re\n",
    "import matplotlib\n",
    "from matplotlib import ft2font\n",
    "import matplotlib.pyplot as plt\n",
    "%matplotlib inline\n",
    "from bdbcontrib.recipes import quickstart\n",
    "import crosscat\n",
    "import crosscat.MultiprocessingEngine as ccme\n",
    "import bayeslite.metamodels.crosscat\n",
    "import os\n",
    "import pandas as pd\n",
    "import crosscat\n",
    "from bdbcontrib.recipes import quickstart\n",
    "import bayeslite\n",
    "from bayeslite.read_pandas import bayesdb_read_pandas_df"
   ]
  },
  {
   "cell_type": "code",
   "execution_count": 25,
   "metadata": {
    "collapsed": true
   },
   "outputs": [],
   "source": [
    "def powerset_gen(seq):\n",
    "    if len(seq)<=1:\n",
    "        yield seq\n",
    "        yield []\n",
    "        \n",
    "    else:\n",
    "        for item in powerset_gen(seq[1:]):\n",
    "            yield [seq[0]]+item\n",
    "            yield item\n",
    "            \n",
    "def powerset(seq):\n",
    "    l=[]\n",
    "    for item in powerset_gen(seq):\n",
    "        l.append(item)\n",
    "    return l"
   ]
  },
  {
   "cell_type": "code",
   "execution_count": 26,
   "metadata": {
    "collapsed": true
   },
   "outputs": [],
   "source": [
    "sequ = [5,4,6,2]"
   ]
  },
  {
   "cell_type": "code",
   "execution_count": 27,
   "metadata": {
    "collapsed": false
   },
   "outputs": [
    {
     "data": {
      "text/plain": [
       "[[5, 4, 6, 2],\n",
       " [4, 6, 2],\n",
       " [5, 6, 2],\n",
       " [6, 2],\n",
       " [5, 4, 2],\n",
       " [4, 2],\n",
       " [5, 2],\n",
       " [2],\n",
       " [5, 4, 6],\n",
       " [4, 6],\n",
       " [5, 6],\n",
       " [6],\n",
       " [5, 4],\n",
       " [4],\n",
       " [5],\n",
       " []]"
      ]
     },
     "execution_count": 27,
     "metadata": {},
     "output_type": "execute_result"
    }
   ],
   "source": [
    "powerset(sequ)"
   ]
  },
  {
   "cell_type": "code",
   "execution_count": null,
   "metadata": {
    "collapsed": true
   },
   "outputs": [],
   "source": []
  },
  {
   "cell_type": "code",
   "execution_count": 42,
   "metadata": {
    "collapsed": false
   },
   "outputs": [],
   "source": [
    "#Load the dataset via pandas\n",
    "DATA = pd.read_csv(\"Most+Recent+Cohorts+(All+Data+Elements).csv\", delimiter=',', low_memory = False)\n",
    "DATA = DATA.replace('PrivacySuppressed', '-1')\n",
    "\n",
    "#Restricting the dataframe to 10 variables of interest\n",
    "df10=DATA.loc[:,['OPEID','UGDS','ADM_RATE_ALL','TUITIONFEE_PROG','DEP_DEBT_MDN','LO_INC_DEATH_YR2_R','MD_INC_DEATH_YR2_R','HI_INC_DEATH_YR2_R','AVGFACSAL','md_faminc','famine']]\n",
    "\n",
    "#Renaming the variables names by their definition\n",
    "df10.columns = ['OPEID_of_institution','Enrollment_of_undergraduate_degree_seeking_students',\n",
    "'Admission_rate_for_all_campuses_rolled_up_to_the_6_digit_OPE_ID',\n",
    "'TUITIONFEE_PROG',\n",
    "'The_median_debt_for_dependent_students',\n",
    "'Percent_of_low_income_students_who_died_within_2_years',\n",
    "'Percent_of_middle_income_students_who_died_within_2_years',\n",
    "'Percent_of_high_income_students_who_died_within_2_years',\n",
    "'Average_faculty_salary',\n",
    "'Median_family_income',\n",
    "'Average_family_income']"
   ]
  },
  {
   "cell_type": "code",
   "execution_count": 43,
   "metadata": {
    "collapsed": false
   },
   "outputs": [
    {
     "name": "stdout",
     "output_type": "stream",
     "text": [
      "BQL [SELECT COUNT(*) FROM \"df3\"] [()]\n",
      "BQL [\n",
      "        CREATE GENERATOR \"df3_cc\" IF NOT EXISTS FOR \"df3\" USING crosscat( GUESS(*) )] [()]\n"
     ]
    }
   ],
   "source": [
    "# Open an empty bdb file\n",
    "bdb = bayeslite.bayesdb_open(\"chris.bdb\")\n",
    "\n",
    "# Link your dataframe to your bdb file\n",
    "bayesdb_read_pandas_df(bdb, \"df3\", df10, create=True)\n",
    "\n",
    "data = quickstart(name='df3', bdb_path='chris.bdb')\n",
    "q = data.q"
   ]
  },
  {
   "cell_type": "code",
   "execution_count": 64,
   "metadata": {
    "collapsed": false
   },
   "outputs": [
    {
     "name": "stdout",
     "output_type": "stream",
     "text": [
      "BQL [INITIALIZE 25 MODELS IF NOT EXISTS FOR df3_cc] [()]\n",
      "BQL [ANALYZE df3_cc FOR 20 ITERATIONS CHECKPOINT 1 ITERATION WAIT] [()]\n",
      "BQL [SELECT iterations FROM bayesdb_generator_model\n",
      "                           WHERE generator_id = (\n",
      "                            SELECT id FROM bayesdb_generator WHERE name = ?)] [('df3_cc',)]\n"
     ]
    },
    {
     "data": {
      "text/html": [
       "<div>\n",
       "<table border=\"1\" class=\"dataframe\">\n",
       "  <thead>\n",
       "    <tr style=\"text-align: right;\">\n",
       "      <th></th>\n",
       "      <th>count of models</th>\n",
       "    </tr>\n",
       "    <tr>\n",
       "      <th>iterations</th>\n",
       "      <th></th>\n",
       "    </tr>\n",
       "  </thead>\n",
       "  <tbody>\n",
       "    <tr>\n",
       "      <th>20</th>\n",
       "      <td>25</td>\n",
       "    </tr>\n",
       "  </tbody>\n",
       "</table>\n",
       "</div>"
      ],
      "text/plain": [
       "            count of models\n",
       "iterations                 \n",
       "20                       25"
      ]
     },
     "execution_count": 64,
     "metadata": {},
     "output_type": "execute_result"
    }
   ],
   "source": [
    "data.analyze(models = 25, iterations = 20)"
   ]
  },
  {
   "cell_type": "markdown",
   "metadata": {},
   "source": [
    "# Enrollment"
   ]
  },
  {
   "cell_type": "code",
   "execution_count": 65,
   "metadata": {
    "collapsed": false
   },
   "outputs": [
    {
     "name": "stdout",
     "output_type": "stream",
     "text": [
      "BQL [\n",
      "CREATE TEMP TABLE unlikely_enrollment AS\n",
      "    ESTIMATE OPEID_of_institution, Enrollment_of_undergraduate_degree_seeking_students,\n",
      "        PREDICTIVE PROBABILITY OF Enrollment_of_undergraduate_degree_seeking_students\n",
      "            AS \"Relative Probability of Enrollment\"\n",
      "    FROM df2_cc;\n",
      "] [()]\n"
     ]
    },
    {
     "data": {
      "text/html": [
       "<div>\n",
       "<table border=\"1\" class=\"dataframe\">\n",
       "  <thead>\n",
       "    <tr style=\"text-align: right;\">\n",
       "      <th></th>\n",
       "    </tr>\n",
       "  </thead>\n",
       "  <tbody>\n",
       "  </tbody>\n",
       "</table>\n",
       "</div>"
      ],
      "text/plain": [
       "Empty DataFrame\n",
       "Columns: []\n",
       "Index: []"
      ]
     },
     "execution_count": 65,
     "metadata": {},
     "output_type": "execute_result"
    }
   ],
   "source": [
    "q('''\n",
    "CREATE TEMP TABLE unlikely_enrollment AS\n",
    "    ESTIMATE OPEID_of_institution, Enrollment_of_undergraduate_degree_seeking_students,\n",
    "        PREDICTIVE PROBABILITY OF Enrollment_of_undergraduate_degree_seeking_students\n",
    "            AS \"Relative Probability of Enrollment\"\n",
    "    FROM df2_cc;\n",
    "''')\n"
   ]
  },
  {
   "cell_type": "code",
   "execution_count": 66,
   "metadata": {
    "collapsed": false
   },
   "outputs": [
    {
     "name": "stdout",
     "output_type": "stream",
     "text": [
      "BQL [\n",
      "SELECT * FROM unlikely_enrollment\n",
      "    WHERE Enrollment_of_undergraduate_degree_seeking_students IS NOT NULL\n",
      "    ORDER BY \"Relative Probability of Enrollment\" ASC LIMIT 20;\n",
      "] [()]\n"
     ]
    },
    {
     "data": {
      "text/html": [
       "<div>\n",
       "<table border=\"1\" class=\"dataframe\">\n",
       "  <thead>\n",
       "    <tr style=\"text-align: right;\">\n",
       "      <th></th>\n",
       "      <th>OPEID_of_institution</th>\n",
       "      <th>Enrollment_of_undergraduate_degree_seeking_students</th>\n",
       "      <th>Relative Probability of Enrollment</th>\n",
       "    </tr>\n",
       "  </thead>\n",
       "  <tbody>\n",
       "    <tr>\n",
       "      <th>0</th>\n",
       "      <td>4118700</td>\n",
       "      <td>1819</td>\n",
       "      <td>0.000057</td>\n",
       "    </tr>\n",
       "    <tr>\n",
       "      <th>1</th>\n",
       "      <td>3210300</td>\n",
       "      <td>1739</td>\n",
       "      <td>0.000109</td>\n",
       "    </tr>\n",
       "    <tr>\n",
       "      <th>2</th>\n",
       "      <td>3284300</td>\n",
       "      <td>1642</td>\n",
       "      <td>0.000112</td>\n",
       "    </tr>\n",
       "    <tr>\n",
       "      <th>3</th>\n",
       "      <td>3106000</td>\n",
       "      <td>1648</td>\n",
       "      <td>0.000113</td>\n",
       "    </tr>\n",
       "    <tr>\n",
       "      <th>4</th>\n",
       "      <td>129400</td>\n",
       "      <td>17611</td>\n",
       "      <td>0.000118</td>\n",
       "    </tr>\n",
       "    <tr>\n",
       "      <th>5</th>\n",
       "      <td>3956317</td>\n",
       "      <td>1713</td>\n",
       "      <td>0.000119</td>\n",
       "    </tr>\n",
       "    <tr>\n",
       "      <th>6</th>\n",
       "      <td>2156600</td>\n",
       "      <td>1557</td>\n",
       "      <td>0.000120</td>\n",
       "    </tr>\n",
       "    <tr>\n",
       "      <th>7</th>\n",
       "      <td>262900</td>\n",
       "      <td>33427</td>\n",
       "      <td>0.000120</td>\n",
       "    </tr>\n",
       "    <tr>\n",
       "      <th>8</th>\n",
       "      <td>462500</td>\n",
       "      <td>17467</td>\n",
       "      <td>0.000121</td>\n",
       "    </tr>\n",
       "    <tr>\n",
       "      <th>9</th>\n",
       "      <td>3070500</td>\n",
       "      <td>1550</td>\n",
       "      <td>0.000122</td>\n",
       "    </tr>\n",
       "    <tr>\n",
       "      <th>10</th>\n",
       "      <td>3067500</td>\n",
       "      <td>1989</td>\n",
       "      <td>0.000123</td>\n",
       "    </tr>\n",
       "    <tr>\n",
       "      <th>11</th>\n",
       "      <td>337800</td>\n",
       "      <td>10606</td>\n",
       "      <td>0.000124</td>\n",
       "    </tr>\n",
       "    <tr>\n",
       "      <th>12</th>\n",
       "      <td>1014805</td>\n",
       "      <td>17902</td>\n",
       "      <td>0.000127</td>\n",
       "    </tr>\n",
       "    <tr>\n",
       "      <th>13</th>\n",
       "      <td>561700</td>\n",
       "      <td>1644</td>\n",
       "      <td>0.000128</td>\n",
       "    </tr>\n",
       "    <tr>\n",
       "      <th>14</th>\n",
       "      <td>144400</td>\n",
       "      <td>10121</td>\n",
       "      <td>0.000129</td>\n",
       "    </tr>\n",
       "    <tr>\n",
       "      <th>15</th>\n",
       "      <td>846600</td>\n",
       "      <td>1597</td>\n",
       "      <td>0.000129</td>\n",
       "    </tr>\n",
       "    <tr>\n",
       "      <th>16</th>\n",
       "      <td>317800</td>\n",
       "      <td>1618</td>\n",
       "      <td>0.000129</td>\n",
       "    </tr>\n",
       "    <tr>\n",
       "      <th>17</th>\n",
       "      <td>360300</td>\n",
       "      <td>1738</td>\n",
       "      <td>0.000130</td>\n",
       "    </tr>\n",
       "    <tr>\n",
       "      <th>18</th>\n",
       "      <td>3789400</td>\n",
       "      <td>1602</td>\n",
       "      <td>0.000130</td>\n",
       "    </tr>\n",
       "    <tr>\n",
       "      <th>19</th>\n",
       "      <td>638500</td>\n",
       "      <td>10778</td>\n",
       "      <td>0.000132</td>\n",
       "    </tr>\n",
       "  </tbody>\n",
       "</table>\n",
       "</div>"
      ],
      "text/plain": [
       "    OPEID_of_institution  Enrollment_of_undergraduate_degree_seeking_students  \\\n",
       "0                4118700                                               1819     \n",
       "1                3210300                                               1739     \n",
       "2                3284300                                               1642     \n",
       "3                3106000                                               1648     \n",
       "4                 129400                                              17611     \n",
       "5                3956317                                               1713     \n",
       "6                2156600                                               1557     \n",
       "7                 262900                                              33427     \n",
       "8                 462500                                              17467     \n",
       "9                3070500                                               1550     \n",
       "10               3067500                                               1989     \n",
       "11                337800                                              10606     \n",
       "12               1014805                                              17902     \n",
       "13                561700                                               1644     \n",
       "14                144400                                              10121     \n",
       "15                846600                                               1597     \n",
       "16                317800                                               1618     \n",
       "17                360300                                               1738     \n",
       "18               3789400                                               1602     \n",
       "19                638500                                              10778     \n",
       "\n",
       "    Relative Probability of Enrollment  \n",
       "0                             0.000057  \n",
       "1                             0.000109  \n",
       "2                             0.000112  \n",
       "3                             0.000113  \n",
       "4                             0.000118  \n",
       "5                             0.000119  \n",
       "6                             0.000120  \n",
       "7                             0.000120  \n",
       "8                             0.000121  \n",
       "9                             0.000122  \n",
       "10                            0.000123  \n",
       "11                            0.000124  \n",
       "12                            0.000127  \n",
       "13                            0.000128  \n",
       "14                            0.000129  \n",
       "15                            0.000129  \n",
       "16                            0.000129  \n",
       "17                            0.000130  \n",
       "18                            0.000130  \n",
       "19                            0.000132  "
      ]
     },
     "execution_count": 66,
     "metadata": {},
     "output_type": "execute_result"
    }
   ],
   "source": [
    "q('''\n",
    "SELECT * FROM unlikely_enrollment\n",
    "    WHERE Enrollment_of_undergraduate_degree_seeking_students IS NOT NULL\n",
    "    ORDER BY \"Relative Probability of Enrollment\" ASC LIMIT 20;\n",
    "''')"
   ]
  },
  {
   "cell_type": "markdown",
   "metadata": {},
   "source": [
    "\"04118700\"\tAmerican College of Technology\n",
    "???\n",
    "\"03284300\"\tMichigan Jewish Institute"
   ]
  },
  {
   "cell_type": "markdown",
   "metadata": {},
   "source": [
    "# Admission Rate"
   ]
  },
  {
   "cell_type": "code",
   "execution_count": 67,
   "metadata": {
    "collapsed": false
   },
   "outputs": [
    {
     "name": "stdout",
     "output_type": "stream",
     "text": [
      "BQL [\n",
      "CREATE TEMP TABLE unlikely_admission_rate AS\n",
      "    ESTIMATE OPEID_of_institution, Admission_rate_for_all_campuses_rolled_up_to_the_6_digit_OPE_ID,\n",
      "        PREDICTIVE PROBABILITY OF Admission_rate_for_all_campuses_rolled_up_to_the_6_digit_OPE_ID\n",
      "            AS \"Relative Probability of Admission Rate\"\n",
      "    FROM df2_cc;\n",
      "] [()]\n"
     ]
    },
    {
     "data": {
      "text/html": [
       "<div>\n",
       "<table border=\"1\" class=\"dataframe\">\n",
       "  <thead>\n",
       "    <tr style=\"text-align: right;\">\n",
       "      <th></th>\n",
       "    </tr>\n",
       "  </thead>\n",
       "  <tbody>\n",
       "  </tbody>\n",
       "</table>\n",
       "</div>"
      ],
      "text/plain": [
       "Empty DataFrame\n",
       "Columns: []\n",
       "Index: []"
      ]
     },
     "execution_count": 67,
     "metadata": {},
     "output_type": "execute_result"
    }
   ],
   "source": [
    "q('''\n",
    "CREATE TEMP TABLE unlikely_admission_rate AS\n",
    "    ESTIMATE OPEID_of_institution, Admission_rate_for_all_campuses_rolled_up_to_the_6_digit_OPE_ID,\n",
    "        PREDICTIVE PROBABILITY OF Admission_rate_for_all_campuses_rolled_up_to_the_6_digit_OPE_ID\n",
    "            AS \"Relative Probability of Admission Rate\"\n",
    "    FROM df2_cc;\n",
    "''')"
   ]
  },
  {
   "cell_type": "code",
   "execution_count": 68,
   "metadata": {
    "collapsed": false
   },
   "outputs": [
    {
     "name": "stdout",
     "output_type": "stream",
     "text": [
      "BQL [\n",
      "SELECT * FROM unlikely_admission_rate\n",
      "    WHERE Admission_rate_for_all_campuses_rolled_up_to_the_6_digit_OPE_ID IS NOT NULL\n",
      "    ORDER BY \"Relative Probability of Admission Rate\" ASC LIMIT 20;\n",
      "] [()]\n"
     ]
    },
    {
     "data": {
      "text/html": [
       "<div>\n",
       "<table border=\"1\" class=\"dataframe\">\n",
       "  <thead>\n",
       "    <tr style=\"text-align: right;\">\n",
       "      <th></th>\n",
       "      <th>OPEID_of_institution</th>\n",
       "      <th>Admission_rate_for_all_campuses_rolled_up_to_the_6_digit_OPE_ID</th>\n",
       "      <th>Relative Probability of Admission Rate</th>\n",
       "    </tr>\n",
       "  </thead>\n",
       "  <tbody>\n",
       "    <tr>\n",
       "      <th>0</th>\n",
       "      <td>3014900</td>\n",
       "      <td>0.0000</td>\n",
       "      <td>0.140250</td>\n",
       "    </tr>\n",
       "    <tr>\n",
       "      <th>1</th>\n",
       "      <td>174600</td>\n",
       "      <td>0.2100</td>\n",
       "      <td>0.247878</td>\n",
       "    </tr>\n",
       "    <tr>\n",
       "      <th>2</th>\n",
       "      <td>622500</td>\n",
       "      <td>0.0000</td>\n",
       "      <td>0.248284</td>\n",
       "    </tr>\n",
       "    <tr>\n",
       "      <th>3</th>\n",
       "      <td>243300</td>\n",
       "      <td>0.1386</td>\n",
       "      <td>0.266669</td>\n",
       "    </tr>\n",
       "    <tr>\n",
       "      <th>4</th>\n",
       "      <td>340900</td>\n",
       "      <td>0.2731</td>\n",
       "      <td>0.269580</td>\n",
       "    </tr>\n",
       "    <tr>\n",
       "      <th>5</th>\n",
       "      <td>133900</td>\n",
       "      <td>0.3225</td>\n",
       "      <td>0.280063</td>\n",
       "    </tr>\n",
       "    <tr>\n",
       "      <th>6</th>\n",
       "      <td>242400</td>\n",
       "      <td>0.2272</td>\n",
       "      <td>0.281793</td>\n",
       "    </tr>\n",
       "    <tr>\n",
       "      <th>7</th>\n",
       "      <td>236600</td>\n",
       "      <td>0.2143</td>\n",
       "      <td>0.306358</td>\n",
       "    </tr>\n",
       "    <tr>\n",
       "      <th>8</th>\n",
       "      <td>2340500</td>\n",
       "      <td>0.3158</td>\n",
       "      <td>0.318811</td>\n",
       "    </tr>\n",
       "    <tr>\n",
       "      <th>9</th>\n",
       "      <td>679100</td>\n",
       "      <td>0.3319</td>\n",
       "      <td>0.319487</td>\n",
       "    </tr>\n",
       "    <tr>\n",
       "      <th>10</th>\n",
       "      <td>364500</td>\n",
       "      <td>0.2992</td>\n",
       "      <td>0.326357</td>\n",
       "    </tr>\n",
       "    <tr>\n",
       "      <th>11</th>\n",
       "      <td>2131100</td>\n",
       "      <td>1.0000</td>\n",
       "      <td>0.329364</td>\n",
       "    </tr>\n",
       "    <tr>\n",
       "      <th>12</th>\n",
       "      <td>1195000</td>\n",
       "      <td>0.2712</td>\n",
       "      <td>0.330449</td>\n",
       "    </tr>\n",
       "    <tr>\n",
       "      <th>13</th>\n",
       "      <td>2153600</td>\n",
       "      <td>0.3261</td>\n",
       "      <td>0.333921</td>\n",
       "    </tr>\n",
       "    <tr>\n",
       "      <th>14</th>\n",
       "      <td>350100</td>\n",
       "      <td>0.2335</td>\n",
       "      <td>0.338606</td>\n",
       "    </tr>\n",
       "    <tr>\n",
       "      <th>15</th>\n",
       "      <td>2604700</td>\n",
       "      <td>0.3333</td>\n",
       "      <td>0.339153</td>\n",
       "    </tr>\n",
       "    <tr>\n",
       "      <th>16</th>\n",
       "      <td>2140000</td>\n",
       "      <td>0.0385</td>\n",
       "      <td>0.339212</td>\n",
       "    </tr>\n",
       "    <tr>\n",
       "      <th>17</th>\n",
       "      <td>198700</td>\n",
       "      <td>0.9615</td>\n",
       "      <td>0.345135</td>\n",
       "    </tr>\n",
       "    <tr>\n",
       "      <th>18</th>\n",
       "      <td>3007300</td>\n",
       "      <td>0.3053</td>\n",
       "      <td>0.346620</td>\n",
       "    </tr>\n",
       "    <tr>\n",
       "      <th>19</th>\n",
       "      <td>1097500</td>\n",
       "      <td>0.2547</td>\n",
       "      <td>0.360456</td>\n",
       "    </tr>\n",
       "  </tbody>\n",
       "</table>\n",
       "</div>"
      ],
      "text/plain": [
       "    OPEID_of_institution  \\\n",
       "0                3014900   \n",
       "1                 174600   \n",
       "2                 622500   \n",
       "3                 243300   \n",
       "4                 340900   \n",
       "5                 133900   \n",
       "6                 242400   \n",
       "7                 236600   \n",
       "8                2340500   \n",
       "9                 679100   \n",
       "10                364500   \n",
       "11               2131100   \n",
       "12               1195000   \n",
       "13               2153600   \n",
       "14                350100   \n",
       "15               2604700   \n",
       "16               2140000   \n",
       "17                198700   \n",
       "18               3007300   \n",
       "19               1097500   \n",
       "\n",
       "    Admission_rate_for_all_campuses_rolled_up_to_the_6_digit_OPE_ID  \\\n",
       "0                                              0.0000                 \n",
       "1                                              0.2100                 \n",
       "2                                              0.0000                 \n",
       "3                                              0.1386                 \n",
       "4                                              0.2731                 \n",
       "5                                              0.3225                 \n",
       "6                                              0.2272                 \n",
       "7                                              0.2143                 \n",
       "8                                              0.3158                 \n",
       "9                                              0.3319                 \n",
       "10                                             0.2992                 \n",
       "11                                             1.0000                 \n",
       "12                                             0.2712                 \n",
       "13                                             0.3261                 \n",
       "14                                             0.2335                 \n",
       "15                                             0.3333                 \n",
       "16                                             0.0385                 \n",
       "17                                             0.9615                 \n",
       "18                                             0.3053                 \n",
       "19                                             0.2547                 \n",
       "\n",
       "    Relative Probability of Admission Rate  \n",
       "0                                 0.140250  \n",
       "1                                 0.247878  \n",
       "2                                 0.248284  \n",
       "3                                 0.266669  \n",
       "4                                 0.269580  \n",
       "5                                 0.280063  \n",
       "6                                 0.281793  \n",
       "7                                 0.306358  \n",
       "8                                 0.318811  \n",
       "9                                 0.319487  \n",
       "10                                0.326357  \n",
       "11                                0.329364  \n",
       "12                                0.330449  \n",
       "13                                0.333921  \n",
       "14                                0.338606  \n",
       "15                                0.339153  \n",
       "16                                0.339212  \n",
       "17                                0.345135  \n",
       "18                                0.346620  \n",
       "19                                0.360456  "
      ]
     },
     "execution_count": 68,
     "metadata": {},
     "output_type": "execute_result"
    }
   ],
   "source": [
    "q('''\n",
    "SELECT * FROM unlikely_admission_rate\n",
    "    WHERE Admission_rate_for_all_campuses_rolled_up_to_the_6_digit_OPE_ID IS NOT NULL\n",
    "    ORDER BY \"Relative Probability of Admission Rate\" ASC LIMIT 20;\n",
    "''')"
   ]
  },
  {
   "cell_type": "markdown",
   "metadata": {},
   "source": [
    "# Tuition"
   ]
  },
  {
   "cell_type": "code",
   "execution_count": 69,
   "metadata": {
    "collapsed": false
   },
   "outputs": [
    {
     "name": "stdout",
     "output_type": "stream",
     "text": [
      "BQL [\n",
      "CREATE TEMP TABLE unlikely_tuition AS\n",
      "    ESTIMATE OPEID_of_institution, TUITIONFEE_PROG,\n",
      "        PREDICTIVE PROBABILITY OF TUITIONFEE_PROG\n",
      "            AS \"Relative Probability of Tuition\"\n",
      "    FROM df2_cc;\n",
      "] [()]\n"
     ]
    },
    {
     "data": {
      "text/html": [
       "<div>\n",
       "<table border=\"1\" class=\"dataframe\">\n",
       "  <thead>\n",
       "    <tr style=\"text-align: right;\">\n",
       "      <th></th>\n",
       "    </tr>\n",
       "  </thead>\n",
       "  <tbody>\n",
       "  </tbody>\n",
       "</table>\n",
       "</div>"
      ],
      "text/plain": [
       "Empty DataFrame\n",
       "Columns: []\n",
       "Index: []"
      ]
     },
     "execution_count": 69,
     "metadata": {},
     "output_type": "execute_result"
    }
   ],
   "source": [
    "q('''\n",
    "CREATE TEMP TABLE unlikely_tuition AS\n",
    "    ESTIMATE OPEID_of_institution, TUITIONFEE_PROG,\n",
    "        PREDICTIVE PROBABILITY OF TUITIONFEE_PROG\n",
    "            AS \"Relative Probability of Tuition\"\n",
    "    FROM df2_cc;\n",
    "''')"
   ]
  },
  {
   "cell_type": "code",
   "execution_count": 70,
   "metadata": {
    "collapsed": false
   },
   "outputs": [
    {
     "name": "stdout",
     "output_type": "stream",
     "text": [
      "BQL [\n",
      "SELECT * FROM unlikely_tuition\n",
      "    WHERE TUITIONFEE_PROG IS NOT NULL\n",
      "    ORDER BY \"Relative Probability of Tuition\" ASC LIMIT 20;\n",
      "] [()]\n"
     ]
    },
    {
     "data": {
      "text/html": [
       "<div>\n",
       "<table border=\"1\" class=\"dataframe\">\n",
       "  <thead>\n",
       "    <tr style=\"text-align: right;\">\n",
       "      <th></th>\n",
       "      <th>OPEID_of_institution</th>\n",
       "      <th>TUITIONFEE_PROG</th>\n",
       "      <th>Relative Probability of Tuition</th>\n",
       "    </tr>\n",
       "  </thead>\n",
       "  <tbody>\n",
       "    <tr>\n",
       "      <th>0</th>\n",
       "      <td>2600001</td>\n",
       "      <td>1260</td>\n",
       "      <td>0.000006</td>\n",
       "    </tr>\n",
       "    <tr>\n",
       "      <th>1</th>\n",
       "      <td>4166000</td>\n",
       "      <td>760</td>\n",
       "      <td>0.000006</td>\n",
       "    </tr>\n",
       "    <tr>\n",
       "      <th>2</th>\n",
       "      <td>3160300</td>\n",
       "      <td>1320</td>\n",
       "      <td>0.000006</td>\n",
       "    </tr>\n",
       "    <tr>\n",
       "      <th>3</th>\n",
       "      <td>2560700</td>\n",
       "      <td>539</td>\n",
       "      <td>0.000006</td>\n",
       "    </tr>\n",
       "    <tr>\n",
       "      <th>4</th>\n",
       "      <td>920408</td>\n",
       "      <td>1881</td>\n",
       "      <td>0.000007</td>\n",
       "    </tr>\n",
       "    <tr>\n",
       "      <th>5</th>\n",
       "      <td>3944400</td>\n",
       "      <td>999</td>\n",
       "      <td>0.000007</td>\n",
       "    </tr>\n",
       "    <tr>\n",
       "      <th>6</th>\n",
       "      <td>4004300</td>\n",
       "      <td>1150</td>\n",
       "      <td>0.000007</td>\n",
       "    </tr>\n",
       "    <tr>\n",
       "      <th>7</th>\n",
       "      <td>3736300</td>\n",
       "      <td>501</td>\n",
       "      <td>0.000007</td>\n",
       "    </tr>\n",
       "    <tr>\n",
       "      <th>8</th>\n",
       "      <td>3067400</td>\n",
       "      <td>2280</td>\n",
       "      <td>0.000008</td>\n",
       "    </tr>\n",
       "    <tr>\n",
       "      <th>9</th>\n",
       "      <td>2250900</td>\n",
       "      <td>1350</td>\n",
       "      <td>0.000008</td>\n",
       "    </tr>\n",
       "    <tr>\n",
       "      <th>10</th>\n",
       "      <td>3348400</td>\n",
       "      <td>54600</td>\n",
       "      <td>0.000008</td>\n",
       "    </tr>\n",
       "    <tr>\n",
       "      <th>11</th>\n",
       "      <td>2600000</td>\n",
       "      <td>1620</td>\n",
       "      <td>0.000009</td>\n",
       "    </tr>\n",
       "    <tr>\n",
       "      <th>12</th>\n",
       "      <td>3095600</td>\n",
       "      <td>620</td>\n",
       "      <td>0.000009</td>\n",
       "    </tr>\n",
       "    <tr>\n",
       "      <th>13</th>\n",
       "      <td>920409</td>\n",
       "      <td>1312</td>\n",
       "      <td>0.000009</td>\n",
       "    </tr>\n",
       "    <tr>\n",
       "      <th>14</th>\n",
       "      <td>4054300</td>\n",
       "      <td>335</td>\n",
       "      <td>0.000009</td>\n",
       "    </tr>\n",
       "    <tr>\n",
       "      <th>15</th>\n",
       "      <td>920403</td>\n",
       "      <td>1313</td>\n",
       "      <td>0.000009</td>\n",
       "    </tr>\n",
       "    <tr>\n",
       "      <th>16</th>\n",
       "      <td>2304400</td>\n",
       "      <td>23884</td>\n",
       "      <td>0.000010</td>\n",
       "    </tr>\n",
       "    <tr>\n",
       "      <th>17</th>\n",
       "      <td>1227200</td>\n",
       "      <td>1902</td>\n",
       "      <td>0.000010</td>\n",
       "    </tr>\n",
       "    <tr>\n",
       "      <th>18</th>\n",
       "      <td>2595600</td>\n",
       "      <td>900</td>\n",
       "      <td>0.000010</td>\n",
       "    </tr>\n",
       "    <tr>\n",
       "      <th>19</th>\n",
       "      <td>4145600</td>\n",
       "      <td>700</td>\n",
       "      <td>0.000010</td>\n",
       "    </tr>\n",
       "  </tbody>\n",
       "</table>\n",
       "</div>"
      ],
      "text/plain": [
       "    OPEID_of_institution  TUITIONFEE_PROG  Relative Probability of Tuition\n",
       "0                2600001             1260                         0.000006\n",
       "1                4166000              760                         0.000006\n",
       "2                3160300             1320                         0.000006\n",
       "3                2560700              539                         0.000006\n",
       "4                 920408             1881                         0.000007\n",
       "5                3944400              999                         0.000007\n",
       "6                4004300             1150                         0.000007\n",
       "7                3736300              501                         0.000007\n",
       "8                3067400             2280                         0.000008\n",
       "9                2250900             1350                         0.000008\n",
       "10               3348400            54600                         0.000008\n",
       "11               2600000             1620                         0.000009\n",
       "12               3095600              620                         0.000009\n",
       "13                920409             1312                         0.000009\n",
       "14               4054300              335                         0.000009\n",
       "15                920403             1313                         0.000009\n",
       "16               2304400            23884                         0.000010\n",
       "17               1227200             1902                         0.000010\n",
       "18               2595600              900                         0.000010\n",
       "19               4145600              700                         0.000010"
      ]
     },
     "execution_count": 70,
     "metadata": {},
     "output_type": "execute_result"
    }
   ],
   "source": [
    "q('''\n",
    "SELECT * FROM unlikely_tuition\n",
    "    WHERE TUITIONFEE_PROG IS NOT NULL\n",
    "    ORDER BY \"Relative Probability of Tuition\" ASC LIMIT 20;\n",
    "''')"
   ]
  },
  {
   "cell_type": "markdown",
   "metadata": {},
   "source": [
    "# Median Debt"
   ]
  },
  {
   "cell_type": "code",
   "execution_count": 45,
   "metadata": {
    "collapsed": false
   },
   "outputs": [
    {
     "name": "stdout",
     "output_type": "stream",
     "text": [
      "BQL [\n",
      "CREATE TEMP TABLE unlikely_median_debt AS\n",
      "    ESTIMATE OPEID_of_institution, The_median_debt_for_dependent_students,\n",
      "        PREDICTIVE PROBABILITY OF The_median_debt_for_dependent_students\n",
      "            AS \"Relative Probability of Median Debt\"\n",
      "    FROM df2_cc;\n",
      "] [()]\n"
     ]
    },
    {
     "data": {
      "text/html": [
       "<div>\n",
       "<table border=\"1\" class=\"dataframe\">\n",
       "  <thead>\n",
       "    <tr style=\"text-align: right;\">\n",
       "      <th></th>\n",
       "    </tr>\n",
       "  </thead>\n",
       "  <tbody>\n",
       "  </tbody>\n",
       "</table>\n",
       "</div>"
      ],
      "text/plain": [
       "Empty DataFrame\n",
       "Columns: []\n",
       "Index: []"
      ]
     },
     "execution_count": 45,
     "metadata": {},
     "output_type": "execute_result"
    }
   ],
   "source": [
    "q('''\n",
    "CREATE TEMP TABLE unlikely_median_debt AS\n",
    "    ESTIMATE OPEID_of_institution, The_median_debt_for_dependent_students,\n",
    "        PREDICTIVE PROBABILITY OF The_median_debt_for_dependent_students\n",
    "            AS \"Relative Probability of Median Debt\"\n",
    "    FROM df2_cc;\n",
    "''')"
   ]
  },
  {
   "cell_type": "code",
   "execution_count": 46,
   "metadata": {
    "collapsed": false
   },
   "outputs": [
    {
     "name": "stdout",
     "output_type": "stream",
     "text": [
      "BQL [\n",
      "SELECT * FROM unlikely_median_debt\n",
      "    WHERE The_median_debt_for_dependent_students IS NOT NULL\n",
      "    ORDER BY \"Relative Probability of Median Debt\" ASC LIMIT 20;\n",
      "] [()]\n"
     ]
    },
    {
     "data": {
      "text/html": [
       "<div>\n",
       "<table border=\"1\" class=\"dataframe\">\n",
       "  <thead>\n",
       "    <tr style=\"text-align: right;\">\n",
       "      <th></th>\n",
       "      <th>OPEID_of_institution</th>\n",
       "      <th>The_median_debt_for_dependent_students</th>\n",
       "      <th>Relative Probability of Median Debt</th>\n",
       "    </tr>\n",
       "  </thead>\n",
       "  <tbody>\n",
       "    <tr>\n",
       "      <th>0</th>\n",
       "      <td>329300</td>\n",
       "      <td>27000.0</td>\n",
       "      <td>0.000018</td>\n",
       "    </tr>\n",
       "    <tr>\n",
       "      <th>1</th>\n",
       "      <td>258700</td>\n",
       "      <td>27000.0</td>\n",
       "      <td>0.000022</td>\n",
       "    </tr>\n",
       "    <tr>\n",
       "      <th>2</th>\n",
       "      <td>335300</td>\n",
       "      <td>27000.0</td>\n",
       "      <td>0.000022</td>\n",
       "    </tr>\n",
       "    <tr>\n",
       "      <th>3</th>\n",
       "      <td>326200</td>\n",
       "      <td>26948.0</td>\n",
       "      <td>0.000023</td>\n",
       "    </tr>\n",
       "    <tr>\n",
       "      <th>4</th>\n",
       "      <td>341100</td>\n",
       "      <td>26777.5</td>\n",
       "      <td>0.000027</td>\n",
       "    </tr>\n",
       "    <tr>\n",
       "      <th>5</th>\n",
       "      <td>396600</td>\n",
       "      <td>28999.0</td>\n",
       "      <td>0.000029</td>\n",
       "    </tr>\n",
       "    <tr>\n",
       "      <th>6</th>\n",
       "      <td>185000</td>\n",
       "      <td>27000.0</td>\n",
       "      <td>0.000030</td>\n",
       "    </tr>\n",
       "    <tr>\n",
       "      <th>7</th>\n",
       "      <td>112300</td>\n",
       "      <td>28000.0</td>\n",
       "      <td>0.000032</td>\n",
       "    </tr>\n",
       "    <tr>\n",
       "      <th>8</th>\n",
       "      <td>219900</td>\n",
       "      <td>27000.0</td>\n",
       "      <td>0.000033</td>\n",
       "    </tr>\n",
       "    <tr>\n",
       "      <th>9</th>\n",
       "      <td>187400</td>\n",
       "      <td>26942.5</td>\n",
       "      <td>0.000033</td>\n",
       "    </tr>\n",
       "    <tr>\n",
       "      <th>10</th>\n",
       "      <td>1257400</td>\n",
       "      <td>27000.0</td>\n",
       "      <td>0.000034</td>\n",
       "    </tr>\n",
       "    <tr>\n",
       "      <th>11</th>\n",
       "      <td>280300</td>\n",
       "      <td>27000.0</td>\n",
       "      <td>0.000034</td>\n",
       "    </tr>\n",
       "    <tr>\n",
       "      <th>12</th>\n",
       "      <td>288200</td>\n",
       "      <td>27000.0</td>\n",
       "      <td>0.000036</td>\n",
       "    </tr>\n",
       "    <tr>\n",
       "      <th>13</th>\n",
       "      <td>2107300</td>\n",
       "      <td>23125.0</td>\n",
       "      <td>0.000036</td>\n",
       "    </tr>\n",
       "    <tr>\n",
       "      <th>14</th>\n",
       "      <td>325800</td>\n",
       "      <td>26000.0</td>\n",
       "      <td>0.000037</td>\n",
       "    </tr>\n",
       "    <tr>\n",
       "      <th>15</th>\n",
       "      <td>223300</td>\n",
       "      <td>27000.0</td>\n",
       "      <td>0.000038</td>\n",
       "    </tr>\n",
       "    <tr>\n",
       "      <th>16</th>\n",
       "      <td>340600</td>\n",
       "      <td>27000.0</td>\n",
       "      <td>0.000038</td>\n",
       "    </tr>\n",
       "    <tr>\n",
       "      <th>17</th>\n",
       "      <td>204400</td>\n",
       "      <td>26216.5</td>\n",
       "      <td>0.000039</td>\n",
       "    </tr>\n",
       "    <tr>\n",
       "      <th>18</th>\n",
       "      <td>303900</td>\n",
       "      <td>26500.0</td>\n",
       "      <td>0.000040</td>\n",
       "    </tr>\n",
       "    <tr>\n",
       "      <th>19</th>\n",
       "      <td>3043900</td>\n",
       "      <td>29798.0</td>\n",
       "      <td>0.000042</td>\n",
       "    </tr>\n",
       "  </tbody>\n",
       "</table>\n",
       "</div>"
      ],
      "text/plain": [
       "    OPEID_of_institution  The_median_debt_for_dependent_students  \\\n",
       "0                 329300                                 27000.0   \n",
       "1                 258700                                 27000.0   \n",
       "2                 335300                                 27000.0   \n",
       "3                 326200                                 26948.0   \n",
       "4                 341100                                 26777.5   \n",
       "5                 396600                                 28999.0   \n",
       "6                 185000                                 27000.0   \n",
       "7                 112300                                 28000.0   \n",
       "8                 219900                                 27000.0   \n",
       "9                 187400                                 26942.5   \n",
       "10               1257400                                 27000.0   \n",
       "11                280300                                 27000.0   \n",
       "12                288200                                 27000.0   \n",
       "13               2107300                                 23125.0   \n",
       "14                325800                                 26000.0   \n",
       "15                223300                                 27000.0   \n",
       "16                340600                                 27000.0   \n",
       "17                204400                                 26216.5   \n",
       "18                303900                                 26500.0   \n",
       "19               3043900                                 29798.0   \n",
       "\n",
       "    Relative Probability of Median Debt  \n",
       "0                              0.000018  \n",
       "1                              0.000022  \n",
       "2                              0.000022  \n",
       "3                              0.000023  \n",
       "4                              0.000027  \n",
       "5                              0.000029  \n",
       "6                              0.000030  \n",
       "7                              0.000032  \n",
       "8                              0.000033  \n",
       "9                              0.000033  \n",
       "10                             0.000034  \n",
       "11                             0.000034  \n",
       "12                             0.000036  \n",
       "13                             0.000036  \n",
       "14                             0.000037  \n",
       "15                             0.000038  \n",
       "16                             0.000038  \n",
       "17                             0.000039  \n",
       "18                             0.000040  \n",
       "19                             0.000042  "
      ]
     },
     "execution_count": 46,
     "metadata": {},
     "output_type": "execute_result"
    }
   ],
   "source": [
    "q('''\n",
    "SELECT * FROM unlikely_median_debt\n",
    "    WHERE The_median_debt_for_dependent_students IS NOT NULL\n",
    "    ORDER BY \"Relative Probability of Median Debt\" ASC LIMIT 20;\n",
    "''')"
   ]
  },
  {
   "cell_type": "markdown",
   "metadata": {},
   "source": [
    "# Percentage of Students from Low-Income Families who Died within 2 Years"
   ]
  },
  {
   "cell_type": "code",
   "execution_count": 71,
   "metadata": {
    "collapsed": false
   },
   "outputs": [
    {
     "name": "stdout",
     "output_type": "stream",
     "text": [
      "BQL [\n",
      "CREATE TEMP TABLE unlikely_low_income_student_deaths AS\n",
      "    ESTIMATE OPEID_of_institution, 'Percent_of_low_income_students_who_died_within_2_years',\n",
      "        PREDICTIVE PROBABILITY OF Percent_of_low_income_students_who_died_within_2_years\n",
      "            AS \"Relative Probability of Percentage Student Deaths from Low Income Families\"\n",
      "    FROM df2_cc;\n",
      "] [()]\n"
     ]
    },
    {
     "name": "stderr",
     "output_type": "stream",
     "text": [
      "ERROR: \n",
      "Traceback (most recent call last):\n",
      "\n",
      "  File \"/home/christina/bdbcontrib/build/lib.linux-x86_64-2.7/bdbcontrib/recipes.py\", line 149, in query\n",
      "    res = self.bdb.execute(query_string, bindings)\n",
      "\n",
      "  File \"/home/christina/bayeslite/build/lib.linux-x86_64-2.7/bayeslite/bayesdb.py\", line 215, in execute\n",
      "    self.tracer, self._do_execute, string, bindings)\n",
      "\n",
      "  File \"/home/christina/bayeslite/build/lib.linux-x86_64-2.7/bayeslite/bayesdb.py\", line 223, in _maybe_trace\n",
      "    return meth(string, bindings)\n",
      "\n",
      "  File \"/home/christina/bayeslite/build/lib.linux-x86_64-2.7/bayeslite/bayesdb.py\", line 264, in _do_execute\n",
      "    cursor = bql.execute_phrase(self, phrase, bindings)\n",
      "\n",
      "  File \"/home/christina/bayeslite/build/lib.linux-x86_64-2.7/bayeslite/bql.py\", line 83, in execute_phrase\n",
      "    compiler.compile_query(bdb, phrase.query, out)\n",
      "\n",
      "  File \"/home/christina/bayeslite/build/lib.linux-x86_64-2.7/bayeslite/compiler.py\", line 213, in compile_query\n",
      "    compile_estimate(bdb, query, out)\n",
      "\n",
      "  File \"/home/christina/bayeslite/build/lib.linux-x86_64-2.7/bayeslite/compiler.py\", line 424, in compile_estimate\n",
      "    compile_select_columns(bdb, estimate.columns, named, bql_compiler, out)\n",
      "\n",
      "  File \"/home/christina/bayeslite/build/lib.linux-x86_64-2.7/bayeslite/compiler.py\", line 490, in compile_select_columns\n",
      "    compile_select_column(bdb, selcol, i, named, bql_compiler, out)\n",
      "\n",
      "  File \"/home/christina/bayeslite/build/lib.linux-x86_64-2.7/bayeslite/compiler.py\", line 528, in compile_select_column\n",
      "    compile_expression(bdb, selcol.expression, bql_compiler, out)\n",
      "\n",
      "  File \"/home/christina/bayeslite/build/lib.linux-x86_64-2.7/bayeslite/compiler.py\", line 1299, in compile_expression\n",
      "    bql_compiler.compile_bql(bdb, exp, out)\n",
      "\n",
      "  File \"/home/christina/bayeslite/build/lib.linux-x86_64-2.7/bayeslite/compiler.py\", line 881, in compile_bql\n",
      "    bql.column)\n",
      "\n",
      "  File \"/home/christina/bayeslite/build/lib.linux-x86_64-2.7/bayeslite/core.py\", line 375, in bayesdb_generator_column_number\n",
      "    (repr(generator), repr(column_name)))\n",
      "\n",
      "ValueError: No such column in generator u'df2_cc': 'Percent_of_low_income_students_who_died_within_2_years'\n",
      "\n"
     ]
    }
   ],
   "source": [
    "q('''\n",
    "CREATE TEMP TABLE unlikely_low_income_student_deaths AS\n",
    "    ESTIMATE OPEID_of_institution, 'Percent_of_low_income_students_who_died_within_2_years',\n",
    "        PREDICTIVE PROBABILITY OF Percent_of_low_income_students_who_died_within_2_years\n",
    "            AS \"Relative Probability of Percentage Student Deaths from Low Income Families\"\n",
    "    FROM df2_cc;\n",
    "''')"
   ]
  },
  {
   "cell_type": "code",
   "execution_count": null,
   "metadata": {
    "collapsed": true
   },
   "outputs": [],
   "source": [
    "q('''\n",
    "SELECT * FROM unlikely_low_income_student_deaths\n",
    "    WHERE Percent_of_low_income_students_who_died_within_2_years IS NOT NULL\n",
    "    ORDER BY \"Relative Probability of Percentage Student Deaths from Low Income Families\" ASC LIMIT 20;\n",
    "''')"
   ]
  },
  {
   "cell_type": "markdown",
   "metadata": {},
   "source": [
    "# Percentage of Students from Middle-Income Families who Died within 2 Years"
   ]
  },
  {
   "cell_type": "code",
   "execution_count": 72,
   "metadata": {
    "collapsed": false
   },
   "outputs": [
    {
     "name": "stdout",
     "output_type": "stream",
     "text": [
      "BQL [\n",
      "CREATE TEMP TABLE unlikely_middle_income_student_deaths AS\n",
      "    ESTIMATE OPEID_of_institution, Percent_of_middle_income_students_who_died_within_2_years,\n",
      "        PREDICTIVE PROBABILITY OF Percent_of_middle_income_students_who_died_within_2_years\n",
      "            AS \"Relative Probability of Percentage Student Deaths from Middle Income Families\"\n",
      "    FROM df2_cc;\n",
      "] [()]\n"
     ]
    },
    {
     "name": "stderr",
     "output_type": "stream",
     "text": [
      "ERROR: \n",
      "Traceback (most recent call last):\n",
      "\n",
      "  File \"/home/christina/bdbcontrib/build/lib.linux-x86_64-2.7/bdbcontrib/recipes.py\", line 149, in query\n",
      "    res = self.bdb.execute(query_string, bindings)\n",
      "\n",
      "  File \"/home/christina/bayeslite/build/lib.linux-x86_64-2.7/bayeslite/bayesdb.py\", line 215, in execute\n",
      "    self.tracer, self._do_execute, string, bindings)\n",
      "\n",
      "  File \"/home/christina/bayeslite/build/lib.linux-x86_64-2.7/bayeslite/bayesdb.py\", line 223, in _maybe_trace\n",
      "    return meth(string, bindings)\n",
      "\n",
      "  File \"/home/christina/bayeslite/build/lib.linux-x86_64-2.7/bayeslite/bayesdb.py\", line 264, in _do_execute\n",
      "    cursor = bql.execute_phrase(self, phrase, bindings)\n",
      "\n",
      "  File \"/home/christina/bayeslite/build/lib.linux-x86_64-2.7/bayeslite/bql.py\", line 83, in execute_phrase\n",
      "    compiler.compile_query(bdb, phrase.query, out)\n",
      "\n",
      "  File \"/home/christina/bayeslite/build/lib.linux-x86_64-2.7/bayeslite/compiler.py\", line 213, in compile_query\n",
      "    compile_estimate(bdb, query, out)\n",
      "\n",
      "  File \"/home/christina/bayeslite/build/lib.linux-x86_64-2.7/bayeslite/compiler.py\", line 424, in compile_estimate\n",
      "    compile_select_columns(bdb, estimate.columns, named, bql_compiler, out)\n",
      "\n",
      "  File \"/home/christina/bayeslite/build/lib.linux-x86_64-2.7/bayeslite/compiler.py\", line 490, in compile_select_columns\n",
      "    compile_select_column(bdb, selcol, i, named, bql_compiler, out)\n",
      "\n",
      "  File \"/home/christina/bayeslite/build/lib.linux-x86_64-2.7/bayeslite/compiler.py\", line 528, in compile_select_column\n",
      "    compile_expression(bdb, selcol.expression, bql_compiler, out)\n",
      "\n",
      "  File \"/home/christina/bayeslite/build/lib.linux-x86_64-2.7/bayeslite/compiler.py\", line 1299, in compile_expression\n",
      "    bql_compiler.compile_bql(bdb, exp, out)\n",
      "\n",
      "  File \"/home/christina/bayeslite/build/lib.linux-x86_64-2.7/bayeslite/compiler.py\", line 881, in compile_bql\n",
      "    bql.column)\n",
      "\n",
      "  File \"/home/christina/bayeslite/build/lib.linux-x86_64-2.7/bayeslite/core.py\", line 375, in bayesdb_generator_column_number\n",
      "    (repr(generator), repr(column_name)))\n",
      "\n",
      "ValueError: No such column in generator u'df2_cc': 'Percent_of_middle_income_students_who_died_within_2_years'\n",
      "\n"
     ]
    }
   ],
   "source": [
    "q('''\n",
    "CREATE TEMP TABLE unlikely_middle_income_student_deaths AS\n",
    "    ESTIMATE OPEID_of_institution, Percent_of_middle_income_students_who_died_within_2_years,\n",
    "        PREDICTIVE PROBABILITY OF Percent_of_middle_income_students_who_died_within_2_years\n",
    "            AS \"Relative Probability of Percentage Student Deaths from Middle Income Families\"\n",
    "    FROM df2_cc;\n",
    "''')"
   ]
  },
  {
   "cell_type": "code",
   "execution_count": null,
   "metadata": {
    "collapsed": true
   },
   "outputs": [],
   "source": [
    "q('''\n",
    "SELECT * FROM unlikely_middle_income_student_deaths\n",
    "    WHERE Percent_of_middle_income_students_who_died_within_2_years IS NOT NULL\n",
    "    ORDER BY \"Relative Probability of Percentage Student Deaths from Middle Income Families\" ASC LIMIT 20;\n",
    "''')"
   ]
  },
  {
   "cell_type": "markdown",
   "metadata": {},
   "source": [
    "# Percentage of Students from Middle-Income Families who Died within 2 Years"
   ]
  },
  {
   "cell_type": "code",
   "execution_count": 73,
   "metadata": {
    "collapsed": false
   },
   "outputs": [
    {
     "name": "stdout",
     "output_type": "stream",
     "text": [
      "BQL [\n",
      "CREATE TEMP TABLE unlikely_high_income_student_deaths AS\n",
      "    ESTIMATE OPEID_of_institution, Percent_of_high_income_students_who_died_within_2_years,\n",
      "        PREDICTIVE PROBABILITY OF Percent_of_high_income_students_who_died_within_2_years\n",
      "            AS \"Relative Probability of Percentage Student Deaths from High Income Families\"\n",
      "    FROM df2_cc;\n",
      "] [()]\n"
     ]
    },
    {
     "name": "stderr",
     "output_type": "stream",
     "text": [
      "ERROR: \n",
      "Traceback (most recent call last):\n",
      "\n",
      "  File \"/home/christina/bdbcontrib/build/lib.linux-x86_64-2.7/bdbcontrib/recipes.py\", line 149, in query\n",
      "    res = self.bdb.execute(query_string, bindings)\n",
      "\n",
      "  File \"/home/christina/bayeslite/build/lib.linux-x86_64-2.7/bayeslite/bayesdb.py\", line 215, in execute\n",
      "    self.tracer, self._do_execute, string, bindings)\n",
      "\n",
      "  File \"/home/christina/bayeslite/build/lib.linux-x86_64-2.7/bayeslite/bayesdb.py\", line 223, in _maybe_trace\n",
      "    return meth(string, bindings)\n",
      "\n",
      "  File \"/home/christina/bayeslite/build/lib.linux-x86_64-2.7/bayeslite/bayesdb.py\", line 264, in _do_execute\n",
      "    cursor = bql.execute_phrase(self, phrase, bindings)\n",
      "\n",
      "  File \"/home/christina/bayeslite/build/lib.linux-x86_64-2.7/bayeslite/bql.py\", line 83, in execute_phrase\n",
      "    compiler.compile_query(bdb, phrase.query, out)\n",
      "\n",
      "  File \"/home/christina/bayeslite/build/lib.linux-x86_64-2.7/bayeslite/compiler.py\", line 213, in compile_query\n",
      "    compile_estimate(bdb, query, out)\n",
      "\n",
      "  File \"/home/christina/bayeslite/build/lib.linux-x86_64-2.7/bayeslite/compiler.py\", line 424, in compile_estimate\n",
      "    compile_select_columns(bdb, estimate.columns, named, bql_compiler, out)\n",
      "\n",
      "  File \"/home/christina/bayeslite/build/lib.linux-x86_64-2.7/bayeslite/compiler.py\", line 490, in compile_select_columns\n",
      "    compile_select_column(bdb, selcol, i, named, bql_compiler, out)\n",
      "\n",
      "  File \"/home/christina/bayeslite/build/lib.linux-x86_64-2.7/bayeslite/compiler.py\", line 528, in compile_select_column\n",
      "    compile_expression(bdb, selcol.expression, bql_compiler, out)\n",
      "\n",
      "  File \"/home/christina/bayeslite/build/lib.linux-x86_64-2.7/bayeslite/compiler.py\", line 1299, in compile_expression\n",
      "    bql_compiler.compile_bql(bdb, exp, out)\n",
      "\n",
      "  File \"/home/christina/bayeslite/build/lib.linux-x86_64-2.7/bayeslite/compiler.py\", line 881, in compile_bql\n",
      "    bql.column)\n",
      "\n",
      "  File \"/home/christina/bayeslite/build/lib.linux-x86_64-2.7/bayeslite/core.py\", line 375, in bayesdb_generator_column_number\n",
      "    (repr(generator), repr(column_name)))\n",
      "\n",
      "ValueError: No such column in generator u'df2_cc': 'Percent_of_high_income_students_who_died_within_2_years'\n",
      "\n"
     ]
    }
   ],
   "source": [
    "q('''\n",
    "CREATE TEMP TABLE unlikely_high_income_student_deaths AS\n",
    "    ESTIMATE OPEID_of_institution, Percent_of_high_income_students_who_died_within_2_years,\n",
    "        PREDICTIVE PROBABILITY OF Percent_of_high_income_students_who_died_within_2_years\n",
    "            AS \"Relative Probability of Percentage Student Deaths from High Income Families\"\n",
    "    FROM df2_cc;\n",
    "''')"
   ]
  },
  {
   "cell_type": "code",
   "execution_count": 58,
   "metadata": {
    "collapsed": false
   },
   "outputs": [
    {
     "name": "stderr",
     "output_type": "stream",
     "text": [
      "ERROR: \n",
      "Traceback (most recent call last):\n",
      "\n",
      "  File \"/home/christina/bdbcontrib/build/lib.linux-x86_64-2.7/bdbcontrib/recipes.py\", line 149, in query\n",
      "    res = self.bdb.execute(query_string, bindings)\n",
      "\n",
      "  File \"/home/christina/bayeslite/build/lib.linux-x86_64-2.7/bayeslite/bayesdb.py\", line 215, in execute\n",
      "    self.tracer, self._do_execute, string, bindings)\n",
      "\n",
      "  File \"/home/christina/bayeslite/build/lib.linux-x86_64-2.7/bayeslite/bayesdb.py\", line 223, in _maybe_trace\n",
      "    return meth(string, bindings)\n",
      "\n",
      "  File \"/home/christina/bayeslite/build/lib.linux-x86_64-2.7/bayeslite/bayesdb.py\", line 264, in _do_execute\n",
      "    cursor = bql.execute_phrase(self, phrase, bindings)\n",
      "\n",
      "  File \"/home/christina/bayeslite/build/lib.linux-x86_64-2.7/bayeslite/bql.py\", line 61, in execute_phrase\n",
      "    out.getbindings())\n",
      "\n",
      "  File \"/home/christina/bayeslite/build/lib.linux-x86_64-2.7/bayeslite/bql.py\", line 648, in execute_wound\n",
      "    return bdb.sql_execute(sql, bindings)\n",
      "\n",
      "  File \"/home/christina/bayeslite/build/lib.linux-x86_64-2.7/bayeslite/bayesdb.py\", line 281, in sql_execute\n",
      "    self.sql_tracer, self._do_sql_execute, string, bindings)\n",
      "\n",
      "  File \"/home/christina/bayeslite/build/lib.linux-x86_64-2.7/bayeslite/bayesdb.py\", line 223, in _maybe_trace\n",
      "    return meth(string, bindings)\n",
      "\n",
      "  File \"/home/christina/bayeslite/build/lib.linux-x86_64-2.7/bayeslite/bayesdb.py\", line 285, in _do_sql_execute\n",
      "    cursor.execute(string, bindings)\n",
      "\n",
      "  File \"src/cursor.c\", line 1019, in APSWCursor_execute.sqlite3_prepare\n",
      "\n",
      "  File \"src/statementcache.c\", line 386, in sqlite3_prepare\n",
      "\n",
      "SQLError: SQLError: no such table: unlikely_high_income_student_deaths\n"
     ]
    },
    {
     "name": "stdout",
     "output_type": "stream",
     "text": [
      "BQL [\n",
      "SELECT * FROM unlikely_high_income_student_deaths\n",
      "    WHERE Percent_of_high_income_more_than_75k_in_nominal_family_income_students_who_died_within_2_years IS NOT NULL\n",
      "    ORDER BY \"Relative Probability of Percentage Student Deaths from High Income Families\" ASC LIMIT 20;\n",
      "] [()]\n"
     ]
    },
    {
     "name": "stderr",
     "output_type": "stream",
     "text": [
      "\n"
     ]
    }
   ],
   "source": [
    "q('''\n",
    "SELECT * FROM unlikely_high_income_student_deaths\n",
    "    WHERE Percent_of_high_income_students_who_died_within_2_years IS NOT NULL\n",
    "    ORDER BY \"Relative Probability of Percentage Student Deaths from High Income Families\" ASC LIMIT 20;\n",
    "''')"
   ]
  },
  {
   "cell_type": "markdown",
   "metadata": {},
   "source": [
    "# Average Faculty Salary"
   ]
  },
  {
   "cell_type": "code",
   "execution_count": 52,
   "metadata": {
    "collapsed": false
   },
   "outputs": [
    {
     "name": "stdout",
     "output_type": "stream",
     "text": [
      "BQL [\n",
      "CREATE TEMP TABLE unlikely_faculty_salary AS\n",
      "    ESTIMATE OPEID_of_institution, Average_faculty_salary,\n",
      "        PREDICTIVE PROBABILITY OF Average_faculty_salary\n",
      "            AS \"Relative Probability of Average Faculty Salary\"\n",
      "    FROM df2_cc;\n",
      "] [()]\n"
     ]
    },
    {
     "data": {
      "text/html": [
       "<div>\n",
       "<table border=\"1\" class=\"dataframe\">\n",
       "  <thead>\n",
       "    <tr style=\"text-align: right;\">\n",
       "      <th></th>\n",
       "    </tr>\n",
       "  </thead>\n",
       "  <tbody>\n",
       "  </tbody>\n",
       "</table>\n",
       "</div>"
      ],
      "text/plain": [
       "Empty DataFrame\n",
       "Columns: []\n",
       "Index: []"
      ]
     },
     "execution_count": 52,
     "metadata": {},
     "output_type": "execute_result"
    }
   ],
   "source": [
    "q('''\n",
    "CREATE TEMP TABLE unlikely_faculty_salary AS\n",
    "    ESTIMATE OPEID_of_institution, Average_faculty_salary,\n",
    "        PREDICTIVE PROBABILITY OF Average_faculty_salary\n",
    "            AS \"Relative Probability of Average Faculty Salary\"\n",
    "    FROM df2_cc;\n",
    "''')"
   ]
  },
  {
   "cell_type": "markdown",
   "metadata": {
    "collapsed": false
   },
   "source": [
    "##### q('''\n",
    "SELECT * FROM unlikely_faculty_salary\n",
    "    WHERE Average_faculty_salary IS NOT NULL\n",
    "    ORDER BY \"Relative Probability of Average Faculty Salary\" ASC LIMIT 20;\n",
    "''')"
   ]
  },
  {
   "cell_type": "markdown",
   "metadata": {},
   "source": [
    "# Median Family Income"
   ]
  },
  {
   "cell_type": "code",
   "execution_count": 54,
   "metadata": {
    "collapsed": false
   },
   "outputs": [
    {
     "name": "stdout",
     "output_type": "stream",
     "text": [
      "BQL [\n",
      "CREATE TEMP TABLE unlikely_median_family_income AS\n",
      "    ESTIMATE OPEID_of_institution, Median_family_income,\n",
      "        PREDICTIVE PROBABILITY OF Median_family_income\n",
      "            AS \"Relative Probability of Median Family Income\"\n",
      "    FROM df2_cc;\n",
      "] [()]\n"
     ]
    },
    {
     "data": {
      "text/html": [
       "<div>\n",
       "<table border=\"1\" class=\"dataframe\">\n",
       "  <thead>\n",
       "    <tr style=\"text-align: right;\">\n",
       "      <th></th>\n",
       "    </tr>\n",
       "  </thead>\n",
       "  <tbody>\n",
       "  </tbody>\n",
       "</table>\n",
       "</div>"
      ],
      "text/plain": [
       "Empty DataFrame\n",
       "Columns: []\n",
       "Index: []"
      ]
     },
     "execution_count": 54,
     "metadata": {},
     "output_type": "execute_result"
    }
   ],
   "source": [
    "q('''\n",
    "CREATE TEMP TABLE unlikely_median_family_income AS\n",
    "    ESTIMATE OPEID_of_institution, Median_family_income,\n",
    "        PREDICTIVE PROBABILITY OF Median_family_income\n",
    "            AS \"Relative Probability of Median Family Income\"\n",
    "    FROM df2_cc;\n",
    "''')"
   ]
  },
  {
   "cell_type": "code",
   "execution_count": 55,
   "metadata": {
    "collapsed": false
   },
   "outputs": [
    {
     "name": "stdout",
     "output_type": "stream",
     "text": [
      "BQL [\n",
      "SELECT * FROM unlikely_median_family_income\n",
      "    WHERE Median_family_income IS NOT NULL\n",
      "    ORDER BY \"Relative Probability of Median Family Income\" ASC LIMIT 20;\n",
      "] [()]\n"
     ]
    },
    {
     "data": {
      "text/html": [
       "<div>\n",
       "<table border=\"1\" class=\"dataframe\">\n",
       "  <thead>\n",
       "    <tr style=\"text-align: right;\">\n",
       "      <th></th>\n",
       "      <th>OPEID_of_institution</th>\n",
       "      <th>Median_family_income</th>\n",
       "      <th>Relative Probability of Median Family Income</th>\n",
       "    </tr>\n",
       "  </thead>\n",
       "  <tbody>\n",
       "    <tr>\n",
       "      <th>0</th>\n",
       "      <td>138500</td>\n",
       "      <td>116850.0</td>\n",
       "      <td>9.141587e-07</td>\n",
       "    </tr>\n",
       "    <tr>\n",
       "      <th>1</th>\n",
       "      <td>212000</td>\n",
       "      <td>108518.0</td>\n",
       "      <td>1.820038e-06</td>\n",
       "    </tr>\n",
       "    <tr>\n",
       "      <th>2</th>\n",
       "      <td>338800</td>\n",
       "      <td>112696.0</td>\n",
       "      <td>1.828097e-06</td>\n",
       "    </tr>\n",
       "    <tr>\n",
       "      <th>3</th>\n",
       "      <td>330400</td>\n",
       "      <td>110473.0</td>\n",
       "      <td>1.972327e-06</td>\n",
       "    </tr>\n",
       "    <tr>\n",
       "      <th>4</th>\n",
       "      <td>140200</td>\n",
       "      <td>108100.0</td>\n",
       "      <td>2.102007e-06</td>\n",
       "    </tr>\n",
       "    <tr>\n",
       "      <th>5</th>\n",
       "      <td>336700</td>\n",
       "      <td>109701.5</td>\n",
       "      <td>2.164920e-06</td>\n",
       "    </tr>\n",
       "    <tr>\n",
       "      <th>6</th>\n",
       "      <td>209500</td>\n",
       "      <td>103581.5</td>\n",
       "      <td>2.439786e-06</td>\n",
       "    </tr>\n",
       "    <tr>\n",
       "      <th>7</th>\n",
       "      <td>214800</td>\n",
       "      <td>109499.5</td>\n",
       "      <td>2.543277e-06</td>\n",
       "    </tr>\n",
       "    <tr>\n",
       "      <th>8</th>\n",
       "      <td>207800</td>\n",
       "      <td>112164.0</td>\n",
       "      <td>2.558729e-06</td>\n",
       "    </tr>\n",
       "    <tr>\n",
       "      <th>9</th>\n",
       "      <td>2532600</td>\n",
       "      <td>90146.0</td>\n",
       "      <td>2.782879e-06</td>\n",
       "    </tr>\n",
       "    <tr>\n",
       "      <th>10</th>\n",
       "      <td>221700</td>\n",
       "      <td>116545.0</td>\n",
       "      <td>2.923512e-06</td>\n",
       "    </tr>\n",
       "    <tr>\n",
       "      <th>11</th>\n",
       "      <td>211800</td>\n",
       "      <td>103026.0</td>\n",
       "      <td>3.058354e-06</td>\n",
       "    </tr>\n",
       "    <tr>\n",
       "      <th>12</th>\n",
       "      <td>274000</td>\n",
       "      <td>115869.0</td>\n",
       "      <td>3.087875e-06</td>\n",
       "    </tr>\n",
       "    <tr>\n",
       "      <th>13</th>\n",
       "      <td>258700</td>\n",
       "      <td>101953.0</td>\n",
       "      <td>3.149473e-06</td>\n",
       "    </tr>\n",
       "    <tr>\n",
       "      <th>14</th>\n",
       "      <td>340600</td>\n",
       "      <td>110798.0</td>\n",
       "      <td>3.149748e-06</td>\n",
       "    </tr>\n",
       "    <tr>\n",
       "      <th>15</th>\n",
       "      <td>184000</td>\n",
       "      <td>106005.0</td>\n",
       "      <td>3.310832e-06</td>\n",
       "    </tr>\n",
       "    <tr>\n",
       "      <th>16</th>\n",
       "      <td>312700</td>\n",
       "      <td>108917.5</td>\n",
       "      <td>3.529048e-06</td>\n",
       "    </tr>\n",
       "    <tr>\n",
       "      <th>17</th>\n",
       "      <td>2349400</td>\n",
       "      <td>44091.0</td>\n",
       "      <td>3.870477e-06</td>\n",
       "    </tr>\n",
       "    <tr>\n",
       "      <th>18</th>\n",
       "      <td>208600</td>\n",
       "      <td>98879.0</td>\n",
       "      <td>3.922006e-06</td>\n",
       "    </tr>\n",
       "    <tr>\n",
       "      <th>19</th>\n",
       "      <td>726300</td>\n",
       "      <td>83600.0</td>\n",
       "      <td>3.990731e-06</td>\n",
       "    </tr>\n",
       "  </tbody>\n",
       "</table>\n",
       "</div>"
      ],
      "text/plain": [
       "    OPEID_of_institution  Median_family_income  \\\n",
       "0                 138500              116850.0   \n",
       "1                 212000              108518.0   \n",
       "2                 338800              112696.0   \n",
       "3                 330400              110473.0   \n",
       "4                 140200              108100.0   \n",
       "5                 336700              109701.5   \n",
       "6                 209500              103581.5   \n",
       "7                 214800              109499.5   \n",
       "8                 207800              112164.0   \n",
       "9                2532600               90146.0   \n",
       "10                221700              116545.0   \n",
       "11                211800              103026.0   \n",
       "12                274000              115869.0   \n",
       "13                258700              101953.0   \n",
       "14                340600              110798.0   \n",
       "15                184000              106005.0   \n",
       "16                312700              108917.5   \n",
       "17               2349400               44091.0   \n",
       "18                208600               98879.0   \n",
       "19                726300               83600.0   \n",
       "\n",
       "    Relative Probability of Median Family Income  \n",
       "0                                   9.141587e-07  \n",
       "1                                   1.820038e-06  \n",
       "2                                   1.828097e-06  \n",
       "3                                   1.972327e-06  \n",
       "4                                   2.102007e-06  \n",
       "5                                   2.164920e-06  \n",
       "6                                   2.439786e-06  \n",
       "7                                   2.543277e-06  \n",
       "8                                   2.558729e-06  \n",
       "9                                   2.782879e-06  \n",
       "10                                  2.923512e-06  \n",
       "11                                  3.058354e-06  \n",
       "12                                  3.087875e-06  \n",
       "13                                  3.149473e-06  \n",
       "14                                  3.149748e-06  \n",
       "15                                  3.310832e-06  \n",
       "16                                  3.529048e-06  \n",
       "17                                  3.870477e-06  \n",
       "18                                  3.922006e-06  \n",
       "19                                  3.990731e-06  "
      ]
     },
     "execution_count": 55,
     "metadata": {},
     "output_type": "execute_result"
    }
   ],
   "source": [
    "q('''\n",
    "SELECT * FROM unlikely_median_family_income\n",
    "    WHERE Median_family_income IS NOT NULL\n",
    "    ORDER BY \"Relative Probability of Median Family Income\" ASC LIMIT 20;\n",
    "''')"
   ]
  },
  {
   "cell_type": "markdown",
   "metadata": {},
   "source": [
    "# Average Family Income "
   ]
  },
  {
   "cell_type": "code",
   "execution_count": 74,
   "metadata": {
    "collapsed": false
   },
   "outputs": [
    {
     "name": "stdout",
     "output_type": "stream",
     "text": [
      "BQL [\n",
      "CREATE TEMP TABLE unlikely_avg_family_income AS\n",
      "    ESTIMATE OPEID_of_institution, Average_family_income,\n",
      "        PREDICTIVE PROBABILITY OF Average_family_income\n",
      "            AS \"Relative Probability of Average Family Income\"\n",
      "    FROM df2_cc;\n",
      "] [()]\n"
     ]
    },
    {
     "name": "stderr",
     "output_type": "stream",
     "text": [
      "ERROR: \n",
      "Traceback (most recent call last):\n",
      "\n",
      "  File \"/home/christina/bdbcontrib/build/lib.linux-x86_64-2.7/bdbcontrib/recipes.py\", line 149, in query\n",
      "    res = self.bdb.execute(query_string, bindings)\n",
      "\n",
      "  File \"/home/christina/bayeslite/build/lib.linux-x86_64-2.7/bayeslite/bayesdb.py\", line 215, in execute\n",
      "    self.tracer, self._do_execute, string, bindings)\n",
      "\n",
      "  File \"/home/christina/bayeslite/build/lib.linux-x86_64-2.7/bayeslite/bayesdb.py\", line 223, in _maybe_trace\n",
      "    return meth(string, bindings)\n",
      "\n",
      "  File \"/home/christina/bayeslite/build/lib.linux-x86_64-2.7/bayeslite/bayesdb.py\", line 264, in _do_execute\n",
      "    cursor = bql.execute_phrase(self, phrase, bindings)\n",
      "\n",
      "  File \"/home/christina/bayeslite/build/lib.linux-x86_64-2.7/bayeslite/bql.py\", line 83, in execute_phrase\n",
      "    compiler.compile_query(bdb, phrase.query, out)\n",
      "\n",
      "  File \"/home/christina/bayeslite/build/lib.linux-x86_64-2.7/bayeslite/compiler.py\", line 213, in compile_query\n",
      "    compile_estimate(bdb, query, out)\n",
      "\n",
      "  File \"/home/christina/bayeslite/build/lib.linux-x86_64-2.7/bayeslite/compiler.py\", line 424, in compile_estimate\n",
      "    compile_select_columns(bdb, estimate.columns, named, bql_compiler, out)\n",
      "\n",
      "  File \"/home/christina/bayeslite/build/lib.linux-x86_64-2.7/bayeslite/compiler.py\", line 490, in compile_select_columns\n",
      "    compile_select_column(bdb, selcol, i, named, bql_compiler, out)\n",
      "\n",
      "  File \"/home/christina/bayeslite/build/lib.linux-x86_64-2.7/bayeslite/compiler.py\", line 528, in compile_select_column\n",
      "    compile_expression(bdb, selcol.expression, bql_compiler, out)\n",
      "\n",
      "  File \"/home/christina/bayeslite/build/lib.linux-x86_64-2.7/bayeslite/compiler.py\", line 1299, in compile_expression\n",
      "    bql_compiler.compile_bql(bdb, exp, out)\n",
      "\n",
      "  File \"/home/christina/bayeslite/build/lib.linux-x86_64-2.7/bayeslite/compiler.py\", line 881, in compile_bql\n",
      "    bql.column)\n",
      "\n",
      "  File \"/home/christina/bayeslite/build/lib.linux-x86_64-2.7/bayeslite/core.py\", line 375, in bayesdb_generator_column_number\n",
      "    (repr(generator), repr(column_name)))\n",
      "\n",
      "ValueError: No such column in generator u'df2_cc': 'Average_family_income'\n",
      "\n"
     ]
    }
   ],
   "source": [
    "q('''\n",
    "CREATE TEMP TABLE unlikely_avg_family_income AS\n",
    "    ESTIMATE OPEID_of_institution, Average_family_income,\n",
    "        PREDICTIVE PROBABILITY OF Average_family_income\n",
    "            AS \"Relative Probability of Average Family Income\"\n",
    "    FROM df2_cc;\n",
    "''')"
   ]
  },
  {
   "cell_type": "code",
   "execution_count": null,
   "metadata": {
    "collapsed": true
   },
   "outputs": [],
   "source": [
    "q('''\n",
    "SELECT * FROM unlikely_avg_family_income\n",
    "    WHERE Average_family_income IS NOT NULL\n",
    "    ORDER BY \"Relative Probability of Average Family Income\" ASC LIMIT 20;\n",
    "''')"
   ]
  }
 ],
 "metadata": {
  "kernelspec": {
   "display_name": "Python 2",
   "language": "python",
   "name": "python2"
  },
  "language_info": {
   "codemirror_mode": {
    "name": "ipython",
    "version": 2
   },
   "file_extension": ".py",
   "mimetype": "text/x-python",
   "name": "python",
   "nbconvert_exporter": "python",
   "pygments_lexer": "ipython2",
   "version": "2.7.10"
  }
 },
 "nbformat": 4,
 "nbformat_minor": 0
}
